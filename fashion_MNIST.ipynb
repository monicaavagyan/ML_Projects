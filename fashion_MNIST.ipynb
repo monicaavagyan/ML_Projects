{
  "nbformat": 4,
  "nbformat_minor": 0,
  "metadata": {
    "colab": {
      "provenance": []
    },
    "kernelspec": {
      "name": "python3",
      "display_name": "Python 3"
    },
    "language_info": {
      "name": "python"
    }
  },
  "cells": [
    {
      "cell_type": "code",
      "source": [
        "from google.colab import files\n",
        "uploaded = files.upload()\n"
      ],
      "metadata": {
        "colab": {
          "base_uri": "https://localhost:8080/",
          "height": 73
        },
        "id": "mIpckdTzSDbQ",
        "outputId": "1f9b12c1-41cb-4f31-f8cf-8f8cebb924ac"
      },
      "execution_count": null,
      "outputs": [
        {
          "output_type": "display_data",
          "data": {
            "text/plain": [
              "<IPython.core.display.HTML object>"
            ],
            "text/html": [
              "\n",
              "     <input type=\"file\" id=\"files-1db88e92-4151-4642-a194-23b2c41b09e1\" name=\"files[]\" multiple disabled\n",
              "        style=\"border:none\" />\n",
              "     <output id=\"result-1db88e92-4151-4642-a194-23b2c41b09e1\">\n",
              "      Upload widget is only available when the cell has been executed in the\n",
              "      current browser session. Please rerun this cell to enable.\n",
              "      </output>\n",
              "      <script>// Copyright 2017 Google LLC\n",
              "//\n",
              "// Licensed under the Apache License, Version 2.0 (the \"License\");\n",
              "// you may not use this file except in compliance with the License.\n",
              "// You may obtain a copy of the License at\n",
              "//\n",
              "//      http://www.apache.org/licenses/LICENSE-2.0\n",
              "//\n",
              "// Unless required by applicable law or agreed to in writing, software\n",
              "// distributed under the License is distributed on an \"AS IS\" BASIS,\n",
              "// WITHOUT WARRANTIES OR CONDITIONS OF ANY KIND, either express or implied.\n",
              "// See the License for the specific language governing permissions and\n",
              "// limitations under the License.\n",
              "\n",
              "/**\n",
              " * @fileoverview Helpers for google.colab Python module.\n",
              " */\n",
              "(function(scope) {\n",
              "function span(text, styleAttributes = {}) {\n",
              "  const element = document.createElement('span');\n",
              "  element.textContent = text;\n",
              "  for (const key of Object.keys(styleAttributes)) {\n",
              "    element.style[key] = styleAttributes[key];\n",
              "  }\n",
              "  return element;\n",
              "}\n",
              "\n",
              "// Max number of bytes which will be uploaded at a time.\n",
              "const MAX_PAYLOAD_SIZE = 100 * 1024;\n",
              "\n",
              "function _uploadFiles(inputId, outputId) {\n",
              "  const steps = uploadFilesStep(inputId, outputId);\n",
              "  const outputElement = document.getElementById(outputId);\n",
              "  // Cache steps on the outputElement to make it available for the next call\n",
              "  // to uploadFilesContinue from Python.\n",
              "  outputElement.steps = steps;\n",
              "\n",
              "  return _uploadFilesContinue(outputId);\n",
              "}\n",
              "\n",
              "// This is roughly an async generator (not supported in the browser yet),\n",
              "// where there are multiple asynchronous steps and the Python side is going\n",
              "// to poll for completion of each step.\n",
              "// This uses a Promise to block the python side on completion of each step,\n",
              "// then passes the result of the previous step as the input to the next step.\n",
              "function _uploadFilesContinue(outputId) {\n",
              "  const outputElement = document.getElementById(outputId);\n",
              "  const steps = outputElement.steps;\n",
              "\n",
              "  const next = steps.next(outputElement.lastPromiseValue);\n",
              "  return Promise.resolve(next.value.promise).then((value) => {\n",
              "    // Cache the last promise value to make it available to the next\n",
              "    // step of the generator.\n",
              "    outputElement.lastPromiseValue = value;\n",
              "    return next.value.response;\n",
              "  });\n",
              "}\n",
              "\n",
              "/**\n",
              " * Generator function which is called between each async step of the upload\n",
              " * process.\n",
              " * @param {string} inputId Element ID of the input file picker element.\n",
              " * @param {string} outputId Element ID of the output display.\n",
              " * @return {!Iterable<!Object>} Iterable of next steps.\n",
              " */\n",
              "function* uploadFilesStep(inputId, outputId) {\n",
              "  const inputElement = document.getElementById(inputId);\n",
              "  inputElement.disabled = false;\n",
              "\n",
              "  const outputElement = document.getElementById(outputId);\n",
              "  outputElement.innerHTML = '';\n",
              "\n",
              "  const pickedPromise = new Promise((resolve) => {\n",
              "    inputElement.addEventListener('change', (e) => {\n",
              "      resolve(e.target.files);\n",
              "    });\n",
              "  });\n",
              "\n",
              "  const cancel = document.createElement('button');\n",
              "  inputElement.parentElement.appendChild(cancel);\n",
              "  cancel.textContent = 'Cancel upload';\n",
              "  const cancelPromise = new Promise((resolve) => {\n",
              "    cancel.onclick = () => {\n",
              "      resolve(null);\n",
              "    };\n",
              "  });\n",
              "\n",
              "  // Wait for the user to pick the files.\n",
              "  const files = yield {\n",
              "    promise: Promise.race([pickedPromise, cancelPromise]),\n",
              "    response: {\n",
              "      action: 'starting',\n",
              "    }\n",
              "  };\n",
              "\n",
              "  cancel.remove();\n",
              "\n",
              "  // Disable the input element since further picks are not allowed.\n",
              "  inputElement.disabled = true;\n",
              "\n",
              "  if (!files) {\n",
              "    return {\n",
              "      response: {\n",
              "        action: 'complete',\n",
              "      }\n",
              "    };\n",
              "  }\n",
              "\n",
              "  for (const file of files) {\n",
              "    const li = document.createElement('li');\n",
              "    li.append(span(file.name, {fontWeight: 'bold'}));\n",
              "    li.append(span(\n",
              "        `(${file.type || 'n/a'}) - ${file.size} bytes, ` +\n",
              "        `last modified: ${\n",
              "            file.lastModifiedDate ? file.lastModifiedDate.toLocaleDateString() :\n",
              "                                    'n/a'} - `));\n",
              "    const percent = span('0% done');\n",
              "    li.appendChild(percent);\n",
              "\n",
              "    outputElement.appendChild(li);\n",
              "\n",
              "    const fileDataPromise = new Promise((resolve) => {\n",
              "      const reader = new FileReader();\n",
              "      reader.onload = (e) => {\n",
              "        resolve(e.target.result);\n",
              "      };\n",
              "      reader.readAsArrayBuffer(file);\n",
              "    });\n",
              "    // Wait for the data to be ready.\n",
              "    let fileData = yield {\n",
              "      promise: fileDataPromise,\n",
              "      response: {\n",
              "        action: 'continue',\n",
              "      }\n",
              "    };\n",
              "\n",
              "    // Use a chunked sending to avoid message size limits. See b/62115660.\n",
              "    let position = 0;\n",
              "    do {\n",
              "      const length = Math.min(fileData.byteLength - position, MAX_PAYLOAD_SIZE);\n",
              "      const chunk = new Uint8Array(fileData, position, length);\n",
              "      position += length;\n",
              "\n",
              "      const base64 = btoa(String.fromCharCode.apply(null, chunk));\n",
              "      yield {\n",
              "        response: {\n",
              "          action: 'append',\n",
              "          file: file.name,\n",
              "          data: base64,\n",
              "        },\n",
              "      };\n",
              "\n",
              "      let percentDone = fileData.byteLength === 0 ?\n",
              "          100 :\n",
              "          Math.round((position / fileData.byteLength) * 100);\n",
              "      percent.textContent = `${percentDone}% done`;\n",
              "\n",
              "    } while (position < fileData.byteLength);\n",
              "  }\n",
              "\n",
              "  // All done.\n",
              "  yield {\n",
              "    response: {\n",
              "      action: 'complete',\n",
              "    }\n",
              "  };\n",
              "}\n",
              "\n",
              "scope.google = scope.google || {};\n",
              "scope.google.colab = scope.google.colab || {};\n",
              "scope.google.colab._files = {\n",
              "  _uploadFiles,\n",
              "  _uploadFilesContinue,\n",
              "};\n",
              "})(self);\n",
              "</script> "
            ]
          },
          "metadata": {}
        },
        {
          "output_type": "stream",
          "name": "stdout",
          "text": [
            "Saving fashion.csv.csv to fashion.csv.csv\n"
          ]
        }
      ]
    },
    {
      "cell_type": "code",
      "execution_count": null,
      "metadata": {
        "colab": {
          "base_uri": "https://localhost:8080/"
        },
        "id": "ZdSqs7Nse7Bt",
        "outputId": "8d726b7e-abe0-479a-e5bf-57e804aff3dd"
      },
      "outputs": [
        {
          "output_type": "stream",
          "name": "stdout",
          "text": [
            "   label  pixel1  pixel2  pixel3  pixel4  pixel5  pixel6  pixel7  pixel8  \\\n",
            "0      0       0       0       0       0       0       0       0       9   \n",
            "1      1       0       0       0       0       0       0       0       0   \n",
            "2      2       0       0       0       0       0       0      14      53   \n",
            "3      2       0       0       0       0       0       0       0       0   \n",
            "4      3       0       0       0       0       0       0       0       0   \n",
            "\n",
            "   pixel9  ...  pixel775  pixel776  pixel777  pixel778  pixel779  pixel780  \\\n",
            "0       8  ...       103        87        56         0         0         0   \n",
            "1       0  ...        34         0         0         0         0         0   \n",
            "2      99  ...         0         0         0         0        63        53   \n",
            "3       0  ...       137       126       140         0       133       224   \n",
            "4       0  ...         0         0         0         0         0         0   \n",
            "\n",
            "   pixel781  pixel782  pixel783  pixel784  \n",
            "0         0         0         0         0  \n",
            "1         0         0         0         0  \n",
            "2        31         0         0         0  \n",
            "3       222        56         0         0  \n",
            "4         0         0         0         0  \n",
            "\n",
            "[5 rows x 785 columns]\n",
            "Labels: [0 1 2 2 3 2 8 6 5 0]\n"
          ]
        }
      ],
      "source": [
        "import pandas as pd\n",
        "\n",
        "\n",
        "# Տվյալների բազայի ներմուծում\n",
        "data = pd.read_csv('fashion.csv.csv')\n",
        "\n",
        "# Ցույց տալ առաջին 5 տողերը\n",
        "print(data.head())\n",
        "\n",
        "# Արձանագրենք առանձնահատկությունները և պիտակները\n",
        "labels = data.iloc[:, 0].values  # Արձանագրում ենք պիտակները\n",
        "features = data.iloc[:, 1:].values  # Արձանագրում ենք առանձնահատկությունները (պիքսելներ)\n",
        "\n",
        "print(\"Labels:\", labels[:10])  # Ցույց տալ առաջին 10 պիտակները\n"
      ]
    },
    {
      "cell_type": "code",
      "source": [
        "from sklearn.preprocessing import StandardScaler\n",
        "\n",
        "# Նորմալիզացում՝ պիքսելների արժեքները [0, 1] միջակայքում\n",
        "features = features / 255.0\n",
        "\n",
        "# Տվյալները բաժանում ենք մարզման և փորձարկման տվյալների վրա\n",
        "from sklearn.model_selection import train_test_split\n",
        "\n",
        "X_train, X_test, y_train, y_test = train_test_split(features, labels, test_size=0.2, random_state=42)\n",
        "\n",
        "# Մասշտաբավորում տվյալները (StandardScaler)\n",
        "scaler = StandardScaler()\n",
        "X_train = scaler.fit_transform(X_train)\n",
        "X_test = scaler.transform(X_test)\n"
      ],
      "metadata": {
        "id": "zQOZ1z9GfD3q"
      },
      "execution_count": null,
      "outputs": []
    },
    {
      "cell_type": "code",
      "source": [
        "from sklearn.neighbors import KNeighborsClassifier\n",
        "from sklearn.tree import DecisionTreeClassifier\n",
        "from sklearn.svm import SVC\n",
        "from sklearn.metrics import accuracy_score\n",
        "\n",
        "# k-NN մոդելի կիրառումը\n",
        "knn = KNeighborsClassifier(n_neighbors=3)\n",
        "knn.fit(X_train, y_train)\n",
        "y_pred_knn = knn.predict(X_test)\n",
        "print(f\"k-NN Accuracy: {accuracy_score(y_test, y_pred_knn):.4f}\")\n",
        "\n",
        "# Decision Tree մոդելի կիրառումը\n",
        "dt = DecisionTreeClassifier(random_state=42)\n",
        "dt.fit(X_train, y_train)\n",
        "y_pred_dt = dt.predict(X_test)\n",
        "print(f\"Decision Tree Accuracy: {accuracy_score(y_test, y_pred_dt):.4f}\")\n",
        "\n",
        "# SVM մոդելի կիրառումը\n",
        "svm = SVC(kernel='linear', random_state=42)\n",
        "svm.fit(X_train, y_train)\n",
        "y_pred_svm = svm.predict(X_test)\n",
        "print(f\"SVM Accuracy: {accuracy_score(y_test, y_pred_svm):.4f}\")\n"
      ],
      "metadata": {
        "colab": {
          "base_uri": "https://localhost:8080/"
        },
        "id": "IDO7V34ZfHjI",
        "outputId": "55cb4752-58bc-4572-ff35-8dc14e6f23f0"
      },
      "execution_count": null,
      "outputs": [
        {
          "output_type": "stream",
          "name": "stdout",
          "text": [
            "k-NN Accuracy: 0.8275\n",
            "Decision Tree Accuracy: 0.7475\n",
            "SVM Accuracy: 0.7930\n"
          ]
        }
      ]
    },
    {
      "cell_type": "code",
      "source": [
        "from sklearn.metrics import classification_report\n",
        "\n",
        "# Ընդհանուր գնահատում\n",
        "print(\"k-NN Classification Report:\\n\", classification_report(y_test, y_pred_knn))\n",
        "print(\"Decision Tree Classification Report:\\n\", classification_report(y_test, y_pred_dt))\n",
        "print(\"SVM Classification Report:\\n\", classification_report(y_test, y_pred_svm))\n"
      ],
      "metadata": {
        "id": "OTFjeHt_fIpl",
        "colab": {
          "base_uri": "https://localhost:8080/"
        },
        "outputId": "dea6b5d3-e3d1-479d-9cc9-e4d7cc3bb458"
      },
      "execution_count": null,
      "outputs": [
        {
          "output_type": "stream",
          "name": "stdout",
          "text": [
            "k-NN Classification Report:\n",
            "               precision    recall  f1-score   support\n",
            "\n",
            "           0       0.68      0.83      0.75       192\n",
            "           1       0.98      0.96      0.97       192\n",
            "           2       0.71      0.73      0.72       212\n",
            "           3       0.89      0.85      0.87       205\n",
            "           4       0.77      0.70      0.73       204\n",
            "           5       0.99      0.85      0.92       193\n",
            "           6       0.59      0.60      0.60       200\n",
            "           7       0.85      0.94      0.89       206\n",
            "           8       0.99      0.88      0.93       196\n",
            "           9       0.91      0.94      0.92       200\n",
            "\n",
            "    accuracy                           0.83      2000\n",
            "   macro avg       0.84      0.83      0.83      2000\n",
            "weighted avg       0.84      0.83      0.83      2000\n",
            "\n",
            "Decision Tree Classification Report:\n",
            "               precision    recall  f1-score   support\n",
            "\n",
            "           0       0.70      0.72      0.71       192\n",
            "           1       0.94      0.95      0.94       192\n",
            "           2       0.60      0.59      0.60       212\n",
            "           3       0.78      0.81      0.80       205\n",
            "           4       0.63      0.67      0.65       204\n",
            "           5       0.82      0.87      0.84       193\n",
            "           6       0.44      0.40      0.42       200\n",
            "           7       0.84      0.75      0.79       206\n",
            "           8       0.89      0.88      0.88       196\n",
            "           9       0.83      0.86      0.85       200\n",
            "\n",
            "    accuracy                           0.75      2000\n",
            "   macro avg       0.75      0.75      0.75      2000\n",
            "weighted avg       0.75      0.75      0.75      2000\n",
            "\n",
            "SVM Classification Report:\n",
            "               precision    recall  f1-score   support\n",
            "\n",
            "           0       0.67      0.73      0.70       192\n",
            "           1       0.96      0.96      0.96       192\n",
            "           2       0.63      0.69      0.66       212\n",
            "           3       0.85      0.85      0.85       205\n",
            "           4       0.72      0.73      0.72       204\n",
            "           5       0.84      0.92      0.88       193\n",
            "           6       0.50      0.42      0.46       200\n",
            "           7       0.88      0.85      0.86       206\n",
            "           8       0.95      0.90      0.92       196\n",
            "           9       0.94      0.89      0.92       200\n",
            "\n",
            "    accuracy                           0.79      2000\n",
            "   macro avg       0.79      0.79      0.79      2000\n",
            "weighted avg       0.79      0.79      0.79      2000\n",
            "\n"
          ]
        }
      ]
    },
    {
      "cell_type": "code",
      "source": [
        "from sklearn.model_selection import cross_val_score\n",
        "\n",
        "# Cross-validation k-NN\n",
        "knn_cv = cross_val_score(knn, X_train, y_train, cv=5)\n",
        "print(f\"k-NN Cross-Validation Score: {knn_cv.mean():.4f}\")\n",
        "\n",
        "# Cross-validation Decision Tree\n",
        "dt_cv = cross_val_score(dt, X_train, y_train, cv=5)\n",
        "print(f\"Decision Tree Cross-Validation Score: {dt_cv.mean():.4f}\")\n",
        "\n",
        "# Cross-validation SVM\n",
        "svm_cv = cross_val_score(svm, X_train, y_train, cv=5)\n",
        "print(f\"SVM Cross-Validation Score: {svm_cv.mean():.4f}\")\n"
      ],
      "metadata": {
        "id": "yLbiwqm1fM3P",
        "colab": {
          "base_uri": "https://localhost:8080/"
        },
        "outputId": "661e0250-7c02-40b6-dfe8-06331c44b485"
      },
      "execution_count": null,
      "outputs": [
        {
          "output_type": "stream",
          "name": "stdout",
          "text": [
            "k-NN Cross-Validation Score: 0.8154\n",
            "Decision Tree Cross-Validation Score: 0.7475\n",
            "SVM Cross-Validation Score: 0.7989\n"
          ]
        }
      ]
    },
    {
      "cell_type": "code",
      "source": [
        "from sklearn.linear_model import LogisticRegression\n",
        "\n",
        "# Լոգիստիկ ռեգրեսիա\n",
        "log_reg = LogisticRegression(max_iter=1000, multi_class='multinomial', solver='lbfgs')\n",
        "log_reg.fit(X_train, y_train)\n",
        "y_pred_log_reg = log_reg.predict(X_test)\n",
        "print(f\"Logistic Regression Accuracy: {accuracy_score(y_test, y_pred_log_reg):.4f}\")\n"
      ],
      "metadata": {
        "id": "hfT7ZGp7fN16",
        "colab": {
          "base_uri": "https://localhost:8080/"
        },
        "outputId": "ea704179-63f2-490a-eeb5-779ebc6e6270"
      },
      "execution_count": null,
      "outputs": [
        {
          "output_type": "stream",
          "name": "stderr",
          "text": [
            "/usr/local/lib/python3.10/dist-packages/sklearn/linear_model/_logistic.py:1247: FutureWarning: 'multi_class' was deprecated in version 1.5 and will be removed in 1.7. From then on, it will always use 'multinomial'. Leave it to its default value to avoid this warning.\n",
            "  warnings.warn(\n"
          ]
        },
        {
          "output_type": "stream",
          "name": "stdout",
          "text": [
            "Logistic Regression Accuracy: 0.7925\n"
          ]
        }
      ]
    },
    {
      "cell_type": "code",
      "source": [
        "from sklearn.metrics import f1_score\n",
        "\n",
        "#Ամբողջական տվյալների ներկայացում\n",
        "\n",
        "# k-NN F1 Score\n",
        "f1_knn = f1_score(y_test, y_pred_knn, average='weighted')  # 'weighted' handles multi-class scenarios\n",
        "print(f\"k-NN F1 Score: {f1_knn:.4f}\")\n",
        "\n",
        "# Decision Tree F1 Score\n",
        "f1_dt = f1_score(y_test, y_pred_dt, average='weighted')\n",
        "print(f\"Decision Tree F1 Score: {f1_dt:.4f}\")\n",
        "\n",
        "# SVM F1 Score\n",
        "f1_svm = f1_score(y_test, y_pred_svm, average='weighted')\n",
        "print(f\"SVM F1 Score: {f1_svm:.4f}\")\n",
        "\n",
        "# Logistic Regression F1 Score\n",
        "f1_log_reg = f1_score(y_test, y_pred_log_reg, average='weighted')\n",
        "print(f\"Logistic Regression F1 Score: {f1_log_reg:.4f}\")\n"
      ],
      "metadata": {
        "colab": {
          "base_uri": "https://localhost:8080/"
        },
        "id": "bjQ-it45DvP9",
        "outputId": "11b0a716-bc08-4a9a-c30d-d8c294115a99"
      },
      "execution_count": null,
      "outputs": [
        {
          "output_type": "stream",
          "name": "stdout",
          "text": [
            "k-NN F1 Score: 0.8293\n",
            "Decision Tree F1 Score: 0.7459\n",
            "SVM F1 Score: 0.7919\n",
            "Logistic Regression F1 Score: 0.7928\n"
          ]
        }
      ]
    }
  ]
}