{
  "nbformat": 4,
  "nbformat_minor": 0,
  "metadata": {
    "colab": {
      "provenance": []
    },
    "kernelspec": {
      "name": "python3",
      "display_name": "Python 3"
    },
    "language_info": {
      "name": "python"
    }
  },
  "cells": [
    {
      "cell_type": "code",
      "execution_count": null,
      "metadata": {
        "colab": {
          "base_uri": "https://localhost:8080/"
        },
        "id": "o-e2XpZHlBGd",
        "outputId": "cd8613c6-d772-45da-8b72-5cf0f37d2073"
      },
      "outputs": [
        {
          "output_type": "stream",
          "name": "stdout",
          "text": [
            "cp: cannot stat 'kaggle.json': No such file or directory\n",
            "chmod: cannot access '/root/.kaggle/kaggle.json': No such file or directory\n",
            "Dataset URL: https://www.kaggle.com/datasets/lakshmi25npathi/imdb-dataset-of-50k-movie-reviews\n",
            "License(s): other\n",
            "imdb-dataset-of-50k-movie-reviews.zip: Skipping, found more recently modified local copy (use --force to force download)\n",
            "Archive:  imdb-dataset-of-50k-movie-reviews.zip\n",
            "replace IMDB Dataset.csv? [y]es, [n]o, [A]ll, [N]one, [r]ename: n\n"
          ]
        }
      ],
      "source": [
        "!mkdir -p ~/.kaggle\n",
        "!cp kaggle.json ~/.kaggle/\n",
        "!chmod 600 ~/.kaggle/kaggle.json\n",
        "!kaggle datasets download -d lakshmi25npathi/imdb-dataset-of-50k-movie-reviews\n",
        "!unzip imdb-dataset-of-50k-movie-reviews.zip"
      ]
    },
    {
      "cell_type": "code",
      "source": [
        "from sklearn.metrics import accuracy_score\n",
        "from scipy.stats import uniform\n",
        "from sklearn.svm import LinearSVC\n",
        "from sklearn.naive_bayes import MultinomialNB\n",
        "from sklearn.neighbors import KNeighborsClassifier\n",
        "from sklearn.linear_model import LogisticRegression\n",
        "from sklearn.feature_extraction.text import CountVectorizer\n",
        "from sklearn.metrics import classification_report\n",
        "from sklearn.model_selection import train_test_split\n",
        "from sklearn.model_selection import GridSearchCV, RandomizedSearchCV\n",
        "from sklearn.metrics import confusion_matrix, ConfusionMatrixDisplay\n",
        "from collections import Counter\n",
        "import pandas as pd\n",
        "import numpy as np\n",
        "import re\n",
        "import matplotlib.pyplot as plt\n",
        "from sklearn.feature_extraction.text import TfidfVectorizer\n",
        "import nltk\n",
        "from nltk.corpus import stopwords\n",
        "nltk.download('stopwords')\n",
        "stop_words = set(stopwords.words('english'))"
      ],
      "metadata": {
        "colab": {
          "base_uri": "https://localhost:8080/"
        },
        "id": "fHU_ZdQ6QjJd",
        "outputId": "2ccfee3a-2eca-4ef9-cf57-ef5772f7ce3f"
      },
      "execution_count": null,
      "outputs": [
        {
          "output_type": "stream",
          "name": "stderr",
          "text": [
            "[nltk_data] Downloading package stopwords to /root/nltk_data...\n",
            "[nltk_data]   Unzipping corpora/stopwords.zip.\n"
          ]
        }
      ]
    },
    {
      "cell_type": "code",
      "source": [
        "data = pd.read_csv(\"IMDB Dataset.csv\")\n",
        "print(data.head())\n",
        "print(data.shape)\n",
        "label=data['sentiment'].value_counts()"
      ],
      "metadata": {
        "colab": {
          "base_uri": "https://localhost:8080/"
        },
        "id": "PTrHRBK-lZXJ",
        "outputId": "8f8f9f62-768c-49e6-c702-00c00ae363eb"
      },
      "execution_count": null,
      "outputs": [
        {
          "output_type": "stream",
          "name": "stdout",
          "text": [
            "                                              review sentiment\n",
            "0  One of the other reviewers has mentioned that ...  positive\n",
            "1  A wonderful little production. <br /><br />The...  positive\n",
            "2  I thought this was a wonderful way to spend ti...  positive\n",
            "3  Basically there's a family where a little boy ...  negative\n",
            "4  Petter Mattei's \"Love in the Time of Money\" is...  positive\n",
            "(50000, 2)\n"
          ]
        }
      ]
    },
    {
      "cell_type": "code",
      "source": [
        "def clean_text(text):\n",
        "    text = re.sub(r'<.*?>', '', text)\n",
        "    text = re.sub(r'[^\\w\\s]', '', text)\n",
        "    text = re.sub(r'\\d+', '', text)\n",
        "    text = text.lower().split()\n",
        "    filtered_words = [word for word in text if word not in stop_words]\n",
        "    return ' '.join(filtered_words)\n",
        "\n",
        "data['cleaned_review'] = data['review'].apply(clean_text)\n",
        "\n",
        "print(data[['cleaned_review']].head())"
      ],
      "metadata": {
        "colab": {
          "base_uri": "https://localhost:8080/"
        },
        "id": "11O3KUvimzz9",
        "outputId": "ce74adc6-a944-4088-93ad-0b2208b8a38b"
      },
      "execution_count": null,
      "outputs": [
        {
          "output_type": "stream",
          "name": "stdout",
          "text": [
            "                                      cleaned_review\n",
            "0  one reviewers mentioned watching oz episode yo...\n",
            "1  wonderful little production filming technique ...\n",
            "2  thought wonderful way spend time hot summer we...\n",
            "3  basically theres family little boy jake thinks...\n",
            "4  petter matteis love time money visually stunni...\n"
          ]
        }
      ]
    },
    {
      "cell_type": "code",
      "source": [
        "data['sentiment'] = data['sentiment'].replace({'positive': 1, 'negative': 0})\n",
        "print(data[['cleaned_review','sentiment']].head())"
      ],
      "metadata": {
        "colab": {
          "base_uri": "https://localhost:8080/"
        },
        "id": "UH3zy4tzouUi",
        "outputId": "536f5aef-04dc-43ba-b0e2-1e7eabc1072a"
      },
      "execution_count": null,
      "outputs": [
        {
          "output_type": "stream",
          "name": "stdout",
          "text": [
            "                                      cleaned_review  sentiment\n",
            "0  one reviewers mentioned watching oz episode yo...          1\n",
            "1  wonderful little production filming technique ...          1\n",
            "2  thought wonderful way spend time hot summer we...          1\n",
            "3  basically theres family little boy jake thinks...          0\n",
            "4  petter matteis love time money visually stunni...          1\n"
          ]
        },
        {
          "output_type": "stream",
          "name": "stderr",
          "text": [
            "<ipython-input-34-5d60ae347c0a>:1: FutureWarning: Downcasting behavior in `replace` is deprecated and will be removed in a future version. To retain the old behavior, explicitly call `result.infer_objects(copy=False)`. To opt-in to the future behavior, set `pd.set_option('future.no_silent_downcasting', True)`\n",
            "  data['sentiment'] = data['sentiment'].replace({'positive': 1, 'negative': 0})\n"
          ]
        }
      ]
    },
    {
      "cell_type": "code",
      "source": [
        "positive_reviews = data[data['sentiment'] == 1]['cleaned_review']\n",
        "negative_reviews = data[data['sentiment'] == 0]['cleaned_review']\n",
        "\n",
        "positive_word_counts=Counter(' '.join(positive_reviews).split())\n",
        "negative_word_counts=Counter(' '.join(negative_reviews).split())\n",
        "\n",
        "top_positive_words = positive_word_counts.most_common(20)\n",
        "top_negative_words = negative_word_counts.most_common(20)\n",
        "\n",
        "top_positive_words_dict = dict(top_positive_words)\n",
        "top_negative_words_dict = dict(top_negative_words)\n",
        "\n",
        "print(top_positive_words_dict)\n",
        "print(top_negative_words_dict)"
      ],
      "metadata": {
        "colab": {
          "base_uri": "https://localhost:8080/"
        },
        "id": "E2CEfxsrtpVq",
        "outputId": "fddf5f22-3bc3-4107-e0bc-367f93c7b7d7"
      },
      "execution_count": null,
      "outputs": [
        {
          "output_type": "stream",
          "name": "stdout",
          "text": [
            "{'film': 39437, 'movie': 36043, 'one': 25739, 'like': 17057, 'good': 14352, 'great': 12647, 'story': 12380, 'see': 11869, 'time': 11785, 'well': 10980, 'really': 10676, 'also': 10553, 'would': 10368, 'even': 9365, 'much': 8998, 'first': 8864, 'films': 8457, 'love': 8401, 'people': 8365, 'best': 8302}\n",
            "{'movie': 47533, 'film': 35075, 'one': 24652, 'like': 21777, 'even': 14920, 'good': 14150, 'bad': 14095, 'would': 13633, 'really': 12224, 'time': 11512, 'see': 10568, 'dont': 10037, 'get': 9998, 'much': 9898, 'story': 9680, 'people': 9121, 'could': 9032, 'make': 8985, 'made': 8395, 'movies': 8357}\n"
          ]
        }
      ]
    },
    {
      "cell_type": "markdown",
      "source": [
        "# **ASCII**"
      ],
      "metadata": {
        "id": "1HICiHT2Mqeu"
      }
    },
    {
      "cell_type": "code",
      "source": [
        "def text_to_ascii(text):\n",
        "    return ' '.join(str(ord(char)) for char in text)\n",
        "\n",
        "data1=data.copy()\n",
        "data1['ascii_review'] = data1['cleaned_review'].apply(text_to_ascii)\n",
        "print(data1[['cleaned_review', 'ascii_review']].head())"
      ],
      "metadata": {
        "colab": {
          "base_uri": "https://localhost:8080/"
        },
        "id": "8ZYmzkWbzVBw",
        "outputId": "c295ae7f-0320-45f3-9cd7-859e2400d383"
      },
      "execution_count": null,
      "outputs": [
        {
          "output_type": "stream",
          "name": "stdout",
          "text": [
            "                                      cleaned_review  \\\n",
            "0  one reviewers mentioned watching oz episode yo...   \n",
            "1  wonderful little production filming technique ...   \n",
            "2  thought wonderful way spend time hot summer we...   \n",
            "3  basically theres family little boy jake thinks...   \n",
            "4  petter matteis love time money visually stunni...   \n",
            "\n",
            "                                        ascii_review  \n",
            "0  111 110 101 32 114 101 118 105 101 119 101 114...  \n",
            "1  119 111 110 100 101 114 102 117 108 32 108 105...  \n",
            "2  116 104 111 117 103 104 116 32 119 111 110 100...  \n",
            "3  98 97 115 105 99 97 108 108 121 32 116 104 101...  \n",
            "4  112 101 116 116 101 114 32 109 97 116 116 101 ...  \n"
          ]
        }
      ]
    },
    {
      "cell_type": "code",
      "source": [
        "X1 = list(data1['ascii_review'])\n",
        "y1 = data1['sentiment']\n",
        "\n",
        "X_train1, X_test1, y_train1, y_test1 = train_test_split(X1, y1, test_size=0.2, random_state=42)\n",
        "X_train1, X_val1, y_train1, y_val1 = train_test_split(X_train1, y_train1, test_size=0.25, random_state=42)  # 0.25*0.8 = 0.2 validation\n",
        "\n",
        "print(\"Training size:\", len(X_train1))\n",
        "print(\"Validation size:\", len(X_val1))\n",
        "print(\"Test size:\", len(X_test1))\n"
      ],
      "metadata": {
        "colab": {
          "base_uri": "https://localhost:8080/"
        },
        "id": "Ckh8kvtkzUjx",
        "outputId": "7fe85fd8-1500-4372-9aa4-e1603bbe5870"
      },
      "execution_count": null,
      "outputs": [
        {
          "output_type": "stream",
          "name": "stdout",
          "text": [
            "Training size: 30000\n",
            "Validation size: 10000\n",
            "Test size: 10000\n"
          ]
        }
      ]
    },
    {
      "cell_type": "code",
      "source": [
        "vectorizer = CountVectorizer(binary=True)\n",
        "X_train_encoded = vectorizer.fit_transform(X_train1)\n",
        "X_test_encoded = vectorizer.transform(X_test1)\n",
        "\n",
        "logreg1 = LogisticRegression(max_iter=1000)\n",
        "logreg1.fit(X_train_encoded, y_train1)\n",
        "\n",
        "logreg1_pred = logreg1.predict(X_test_encoded)\n",
        "\n",
        "print(\"Logistic Regression Classifier Results:\")\n",
        "print(classification_report(y_test1, logreg1_pred))"
      ],
      "metadata": {
        "colab": {
          "base_uri": "https://localhost:8080/"
        },
        "id": "UjYR40oSzbc_",
        "outputId": "f82d7880-5c0a-4334-fa42-90f8de7ce81c"
      },
      "execution_count": null,
      "outputs": [
        {
          "output_type": "stream",
          "name": "stdout",
          "text": [
            "Logistic Regression Classifier Results:\n",
            "              precision    recall  f1-score   support\n",
            "\n",
            "           0       0.55      0.49      0.52      4961\n",
            "           1       0.55      0.60      0.57      5039\n",
            "\n",
            "    accuracy                           0.55     10000\n",
            "   macro avg       0.55      0.55      0.54     10000\n",
            "weighted avg       0.55      0.55      0.54     10000\n",
            "\n"
          ]
        }
      ]
    },
    {
      "cell_type": "code",
      "source": [
        "knn1 = KNeighborsClassifier(n_neighbors=10)\n",
        "knn1.fit(X_train_encoded, y_train1)\n",
        "knn_pred1 = knn1.predict(X_test_encoded)\n",
        "\n",
        "print(\"KNN Classifier Results:\")\n",
        "print(classification_report(y_test1, knn_pred1))"
      ],
      "metadata": {
        "colab": {
          "base_uri": "https://localhost:8080/"
        },
        "id": "QD8FP5x3zeFg",
        "outputId": "675573bd-b9d0-4363-d79e-1aa91594c22d"
      },
      "execution_count": null,
      "outputs": [
        {
          "output_type": "stream",
          "name": "stdout",
          "text": [
            "KNN Classifier Results:\n",
            "              precision    recall  f1-score   support\n",
            "\n",
            "           0       0.50      0.80      0.62      4961\n",
            "           1       0.54      0.23      0.32      5039\n",
            "\n",
            "    accuracy                           0.51     10000\n",
            "   macro avg       0.52      0.51      0.47     10000\n",
            "weighted avg       0.52      0.51      0.47     10000\n",
            "\n"
          ]
        }
      ]
    },
    {
      "cell_type": "markdown",
      "source": [
        "# **ուղղակի վեկտորիզացրած**"
      ],
      "metadata": {
        "id": "PUldBANavJwr"
      }
    },
    {
      "cell_type": "code",
      "source": [
        "all_reviews = data['cleaned_review']\n",
        "vect = TfidfVectorizer(max_features=2000)\n",
        "review_vectors = vect.fit_transform(all_reviews)\n",
        "\n",
        "print(review_vectors.shape)"
      ],
      "metadata": {
        "colab": {
          "base_uri": "https://localhost:8080/"
        },
        "id": "jp2P1jr2-ZAE",
        "outputId": "ec1354ce-0b0e-40a6-88d4-2d39c265a042"
      },
      "execution_count": null,
      "outputs": [
        {
          "output_type": "stream",
          "name": "stdout",
          "text": [
            "(50000, 2000)\n"
          ]
        }
      ]
    },
    {
      "cell_type": "code",
      "source": [
        "X = review_vectors\n",
        "y = data['sentiment']\n",
        "\n",
        "X_train, X_test, y_train, y_test = train_test_split(X, y, test_size=0.2, random_state=42)\n",
        "X_train, X_val, y_train, y_val = train_test_split(X_train, y_train, test_size=0.25, random_state=42)  # 0.25*0.8 = 0.2 validation\n",
        "\n",
        "print(X_train.shape, X_val.shape, X_test.shape)"
      ],
      "metadata": {
        "colab": {
          "base_uri": "https://localhost:8080/"
        },
        "id": "Yv9EjCxjEpEL",
        "outputId": "90d200b8-54e4-4acb-8092-d9bc87316dbe"
      },
      "execution_count": null,
      "outputs": [
        {
          "output_type": "stream",
          "name": "stdout",
          "text": [
            "(30000, 2000) (10000, 2000) (10000, 2000)\n"
          ]
        }
      ]
    },
    {
      "cell_type": "markdown",
      "source": [
        "# **LR**"
      ],
      "metadata": {
        "id": "E9l9r0ZQnYtt"
      }
    },
    {
      "cell_type": "code",
      "source": [
        "logreg = LogisticRegression()\n",
        "logreg.fit(X_train, y_train)\n",
        "logreg_pred = logreg.predict(X_test)\n",
        "print(\"Logistic Regression Classifier Results:\")\n",
        "print(classification_report(y_test, logreg_pred))"
      ],
      "metadata": {
        "id": "8aLPt7Hmy2wE",
        "colab": {
          "base_uri": "https://localhost:8080/"
        },
        "outputId": "4693eed5-b979-408c-e06d-8aaf15d9941e"
      },
      "execution_count": null,
      "outputs": [
        {
          "output_type": "stream",
          "name": "stdout",
          "text": [
            "Logistic Regression Classifier Results:\n",
            "              precision    recall  f1-score   support\n",
            "\n",
            "           0       0.88      0.87      0.87      4961\n",
            "           1       0.87      0.89      0.88      5039\n",
            "\n",
            "    accuracy                           0.88     10000\n",
            "   macro avg       0.88      0.88      0.88     10000\n",
            "weighted avg       0.88      0.88      0.88     10000\n",
            "\n"
          ]
        }
      ]
    },
    {
      "cell_type": "markdown",
      "source": [
        "# **KNN**"
      ],
      "metadata": {
        "id": "bu_jY_rWJIVC"
      }
    },
    {
      "cell_type": "code",
      "source": [
        "knn = KNeighborsClassifier(n_neighbors=10, metric=\"euclidean\")\n",
        "knn.fit(X_train, y_train)\n",
        "\n",
        "y_pred_knn = knn.predict(X_test)\n",
        "\n",
        "print(\"K-Nearest Neighbors Classifier Results:\")\n",
        "print(classification_report(y_test, y_pred_knn))"
      ],
      "metadata": {
        "colab": {
          "base_uri": "https://localhost:8080/"
        },
        "id": "skVyeymRIOyT",
        "outputId": "5fa52aae-af8b-47ea-d9d1-2b0af908e6bd"
      },
      "execution_count": null,
      "outputs": [
        {
          "output_type": "stream",
          "name": "stdout",
          "text": [
            "K-Nearest Neighbors Classifier Results:\n",
            "              precision    recall  f1-score   support\n",
            "\n",
            "           0       0.70      0.82      0.76      4961\n",
            "           1       0.79      0.66      0.72      5039\n",
            "\n",
            "    accuracy                           0.74     10000\n",
            "   macro avg       0.75      0.74      0.74     10000\n",
            "weighted avg       0.75      0.74      0.74     10000\n",
            "\n"
          ]
        }
      ]
    },
    {
      "cell_type": "markdown",
      "source": [
        "# **համեմատում**"
      ],
      "metadata": {
        "id": "36tSQF7-neuZ"
      }
    },
    {
      "cell_type": "code",
      "source": [
        "print(classification_report(y_test, logreg_pred))\n",
        "print(classification_report(y_test1, logreg1_pred))\n",
        "report = classification_report(y_test, logreg_pred, output_dict=True)\n",
        "accuracy = report['accuracy']\n",
        "print(\"Logistic Regression Accuracy for TfidfVectorizer data:\", accuracy)\n",
        "report1 = classification_report(y_test1, logreg1_pred, output_dict=True)\n",
        "accuracy1 = report1['accuracy']\n",
        "print(\"Logistic Regression Accuracy for One-Hot Vectorizated data:\", accuracy1)\n",
        "if accuracy > accuracy1:\n",
        "  print(\"TfidfVectorizer is better\")\n",
        "else:\n",
        "  print(\"One-Hot encoding with ASCII is better\")\n"
      ],
      "metadata": {
        "colab": {
          "base_uri": "https://localhost:8080/"
        },
        "id": "7XyRh-XXmS54",
        "outputId": "c4031dd0-18d2-46de-a0de-aeb34930f106"
      },
      "execution_count": null,
      "outputs": [
        {
          "output_type": "stream",
          "name": "stdout",
          "text": [
            "              precision    recall  f1-score   support\n",
            "\n",
            "           0       0.88      0.87      0.87      4961\n",
            "           1       0.87      0.89      0.88      5039\n",
            "\n",
            "    accuracy                           0.88     10000\n",
            "   macro avg       0.88      0.88      0.88     10000\n",
            "weighted avg       0.88      0.88      0.88     10000\n",
            "\n",
            "              precision    recall  f1-score   support\n",
            "\n",
            "           0       0.55      0.49      0.52      4961\n",
            "           1       0.55      0.60      0.57      5039\n",
            "\n",
            "    accuracy                           0.55     10000\n",
            "   macro avg       0.55      0.55      0.54     10000\n",
            "weighted avg       0.55      0.55      0.54     10000\n",
            "\n",
            "Logistic Regression Accuracy for TfidfVectorizer data: 0.8763\n",
            "Logistic Regression Accuracy for One-Hot Vectorizated data: 0.5462\n",
            "TfidfVectorizer is better\n"
          ]
        }
      ]
    },
    {
      "cell_type": "markdown",
      "source": [
        "# **պարամետրերի ընտրություն**"
      ],
      "metadata": {
        "id": "tx58QcVXa2-I"
      }
    },
    {
      "cell_type": "code",
      "source": [
        "param_grid = {'C': [0.1, 1, 10, 100]}\n",
        "logreg = LogisticRegression()\n",
        "grid_search_logreg = GridSearchCV(logreg, param_grid, scoring='f1', cv=3)\n",
        "grid_search_logreg.fit(X_train, y_train)\n",
        "\n",
        "print(\"Best Logistic Regression Parameters:\", grid_search_logreg.best_params_)\n",
        "print(\"Best F1 Score for Logistic Regression:\", grid_search_logreg.best_score_)\n"
      ],
      "metadata": {
        "colab": {
          "base_uri": "https://localhost:8080/"
        },
        "id": "cW0uW8n-MUPv",
        "outputId": "e1ee3df3-eae6-43ab-9b9d-2c7673470bf4"
      },
      "execution_count": null,
      "outputs": [
        {
          "output_type": "stream",
          "name": "stdout",
          "text": [
            "Best Logistic Regression Parameters: {'C': 1}\n",
            "Best F1 Score for Logistic Regression: 0.8718160027982628\n"
          ]
        }
      ]
    },
    {
      "cell_type": "code",
      "source": [
        "param_dist_knn = {\n",
        "    'n_neighbors': [10,15],\n",
        "    'metric': ['euclidean']\n",
        "}\n",
        "\n",
        "knn = KNeighborsClassifier()\n",
        "random_search_knn = RandomizedSearchCV(knn, param_dist_knn, n_iter=2, scoring='f1', cv=3, random_state=42)\n",
        "random_search_knn.fit(X_train, y_train)\n",
        "\n",
        "print(\"Best Parameters for KNN:\", random_search_knn.best_params_)\n",
        "print(\"Best F1 Score for KNN:\", random_search_knn.best_score_)"
      ],
      "metadata": {
        "colab": {
          "base_uri": "https://localhost:8080/"
        },
        "id": "NsGgFUylX_V4",
        "outputId": "aec49ac6-ff4f-4281-cc7a-4729917e7a22"
      },
      "execution_count": null,
      "outputs": [
        {
          "output_type": "stream",
          "name": "stdout",
          "text": [
            "Best Parameters for KNN: {'n_neighbors': 15, 'metric': 'euclidean'}\n",
            "Best F1 Score for KNN: 0.7610051997853585\n"
          ]
        }
      ]
    },
    {
      "cell_type": "code",
      "source": [
        "print(\"KNN Model F1-Score: \", random_search_knn.best_score_)\n",
        "print(\"Logistic Regression Model F1-Score: \", grid_search_logreg.best_score_)"
      ],
      "metadata": {
        "colab": {
          "base_uri": "https://localhost:8080/"
        },
        "id": "0RKPn0DZawT3",
        "outputId": "4ba38573-a083-46f7-e57f-a80bafb18985"
      },
      "execution_count": null,
      "outputs": [
        {
          "output_type": "stream",
          "name": "stdout",
          "text": [
            "KNN Model F1-Score:  0.7610051997853585\n",
            "Logistic Regression Model F1-Score:  0.8718160027982628\n"
          ]
        }
      ]
    },
    {
      "cell_type": "code",
      "source": [
        "best_model = 'KNN with F1-score {random_search_knn.best_score_}' if random_search_knn.best_score_ > grid_search_logreg.best_score_ else f\"Logistic Regression with F1-score {grid_search_logreg.best_score_}\"\n",
        "print(f\"The best model is: {best_model}\")"
      ],
      "metadata": {
        "colab": {
          "base_uri": "https://localhost:8080/"
        },
        "id": "-ExbWYv6bXBi",
        "outputId": "b2234a23-858f-4a22-c1b6-84c647bd1756"
      },
      "execution_count": null,
      "outputs": [
        {
          "output_type": "stream",
          "name": "stdout",
          "text": [
            "The best model is: Logistic Regression with F1-score 0.8718160027982628\n"
          ]
        }
      ]
    },
    {
      "cell_type": "markdown",
      "source": [
        "# **նոր մոդել**"
      ],
      "metadata": {
        "id": "CeirSqb2bnGE"
      }
    },
    {
      "cell_type": "code",
      "source": [
        "nb = MultinomialNB()\n",
        "nb.fit(X_train, y_train)\n",
        "\n",
        "y_pred_nb = nb.predict(X_test)\n",
        "print(classification_report(y_test, y_pred_nb))\n"
      ],
      "metadata": {
        "colab": {
          "base_uri": "https://localhost:8080/"
        },
        "id": "jG13Bx9DdPqI",
        "outputId": "d9ddf721-c652-4bb9-b32b-4b452d0a57b5"
      },
      "execution_count": null,
      "outputs": [
        {
          "output_type": "stream",
          "name": "stdout",
          "text": [
            "              precision    recall  f1-score   support\n",
            "\n",
            "           0       0.85      0.84      0.84      4961\n",
            "           1       0.84      0.85      0.85      5039\n",
            "\n",
            "    accuracy                           0.84     10000\n",
            "   macro avg       0.84      0.84      0.84     10000\n",
            "weighted avg       0.84      0.84      0.84     10000\n",
            "\n"
          ]
        }
      ]
    },
    {
      "cell_type": "code",
      "source": [
        "param_dist = {\n",
        "    'alpha': np.linspace(0.1, 5, 50),\n",
        "    'fit_prior': [True, False]\n",
        "}\n",
        "\n",
        "nb = MultinomialNB()\n",
        "random_search_nb = RandomizedSearchCV(nb, param_dist, n_iter=10, cv=3, scoring='f1', random_state=42)\n",
        "random_search_nb.fit(X_train, y_train)\n",
        "\n",
        "print(\"Best Parameters:\", random_search_nb.best_params_)\n",
        "print(\"Best F1 Score:\", random_search_nb.best_score_)\n"
      ],
      "metadata": {
        "colab": {
          "base_uri": "https://localhost:8080/"
        },
        "id": "5frX6mVYkHHr",
        "outputId": "afe0d8f3-8796-449a-fb23-7d335f471fe3"
      },
      "execution_count": null,
      "outputs": [
        {
          "output_type": "stream",
          "name": "stdout",
          "text": [
            "Best Parameters: {'fit_prior': False, 'alpha': 2.0}\n",
            "Best F1 Score: 0.8447070193525329\n"
          ]
        }
      ]
    },
    {
      "cell_type": "code",
      "source": [
        "linear_svc = LinearSVC(C=1.0, random_state=42)\n",
        "linear_svc.fit(X_train, y_train)\n",
        "linear_svc_pred = linear_svc.predict(X_test)\n",
        "\n",
        "print(\"LinearSVC Classifier Results:\")\n",
        "print(classification_report(y_test, linear_svc_pred))\n"
      ],
      "metadata": {
        "colab": {
          "base_uri": "https://localhost:8080/"
        },
        "id": "AlVeE766ppux",
        "outputId": "d1cc2e38-7267-4d6c-ad92-2a9179341d5d"
      },
      "execution_count": null,
      "outputs": [
        {
          "output_type": "stream",
          "name": "stdout",
          "text": [
            "LinearSVC Classifier Results:\n",
            "              precision    recall  f1-score   support\n",
            "\n",
            "           0       0.87      0.87      0.87      4961\n",
            "           1       0.87      0.88      0.87      5039\n",
            "\n",
            "    accuracy                           0.87     10000\n",
            "   macro avg       0.87      0.87      0.87     10000\n",
            "weighted avg       0.87      0.87      0.87     10000\n",
            "\n"
          ]
        }
      ]
    },
    {
      "cell_type": "code",
      "source": [
        "param_dist = {\n",
        "    'C': uniform(0.1, 1),\n",
        "    'max_iter': [1000],\n",
        "    'tol': [1e-3]\n",
        "}\n",
        "\n",
        "random_search_svc = RandomizedSearchCV(LinearSVC(random_state=42), param_distributions=param_dist, n_iter=10, cv=3, random_state=42, n_jobs=-1)\n",
        "random_search_svc.fit(X_train, y_train)\n",
        "print(\"Best LinearSVC parameters: \", random_search_svc.best_params_)\n",
        "print(\"Best LinearSVC Score:\", random_search_svc.best_score_)\n"
      ],
      "metadata": {
        "id": "-4g57tDQqPjJ",
        "colab": {
          "base_uri": "https://localhost:8080/"
        },
        "outputId": "4525a6aa-cb4e-4d25-df58-10eb9731414d"
      },
      "execution_count": null,
      "outputs": [
        {
          "output_type": "stream",
          "name": "stdout",
          "text": [
            "Best LinearSVC parameters:  {'C': 0.15808361216819947, 'max_iter': 1000, 'tol': 0.001}\n",
            "Best LinearSVC Score: 0.8716666666666667\n"
          ]
        }
      ]
    },
    {
      "cell_type": "code",
      "source": [
        "best_model = f'LinearSVC with F1-score {random_search_svc.best_score_}' if random_search_svc.best_score_ > random_search_nb.best_score_ else f'MultinomialNb with F1-score {random_search_nb.best_score_}'\n",
        "print(f\"The best model is: {best_model}\")\n"
      ],
      "metadata": {
        "colab": {
          "base_uri": "https://localhost:8080/"
        },
        "id": "u6D2rSRIDTxf",
        "outputId": "fb71630e-88b8-447f-f53e-cfb4d10694d7"
      },
      "execution_count": null,
      "outputs": [
        {
          "output_type": "stream",
          "name": "stdout",
          "text": [
            "The best model is: LinearSVC with F1-score 0.8716666666666667\n"
          ]
        }
      ]
    },
    {
      "cell_type": "markdown",
      "source": [
        "# **Confusion matrix**"
      ],
      "metadata": {
        "id": "B27PJuwfmJAF"
      }
    },
    {
      "cell_type": "code",
      "source": [
        "y_pred_logreg = grid_search_logreg.predict(X_test)\n",
        "y_pred_knn = random_search_knn.predict(X_test)\n",
        "\n",
        "cm_logreg = confusion_matrix(y_test, y_pred_logreg)\n",
        "cm_knn = confusion_matrix(y_test, y_pred_knn)\n",
        "\n",
        "disp_logreg = ConfusionMatrixDisplay(confusion_matrix=cm_logreg)\n",
        "disp_knn = ConfusionMatrixDisplay(confusion_matrix=cm_knn)\n",
        "\n",
        "disp_logreg.plot(cmap=plt.cm.Reds)\n",
        "plt.title('Logistic Regression')\n",
        "disp_knn.plot(cmap=plt.cm.YlOrBr)\n",
        "plt.title('KNN')\n",
        "\n",
        "y_pred_nb = random_search_nb.predict(X_test)\n",
        "y_pred_svc = random_search_svc.predict(X_test)\n",
        "\n",
        "cm_nb = confusion_matrix(y_test, y_pred_nb)\n",
        "cm_svc = confusion_matrix(y_test, y_pred_svc)\n",
        "\n",
        "disp_nb = ConfusionMatrixDisplay(confusion_matrix=cm_nb)\n",
        "disp_svc = ConfusionMatrixDisplay(confusion_matrix=cm_svc)\n",
        "\n",
        "disp_nb.plot(cmap=plt.cm.Reds)\n",
        "plt.title('MultinomialNB')\n",
        "disp_svc.plot(cmap=plt.cm.YlOrBr)\n",
        "plt.title('LinearSVC')\n",
        "\n",
        "plt.show()"
      ],
      "metadata": {
        "colab": {
          "base_uri": "https://localhost:8080/",
          "height": 1000
        },
        "id": "MAl7XGGIlwDG",
        "outputId": "fedcf748-9d49-42c6-e1a9-3f5163ad10a6"
      },
      "execution_count": null,
      "outputs": [
        {
          "output_type": "display_data",
          "data": {
            "text/plain": [
              "<Figure size 640x480 with 2 Axes>"
            ],
            "image/png": "[encoded data removed]"
          },
          "metadata": {}
        },
        {
          "output_type": "display_data",
          "data": {
            "text/plain": [
              "<Figure size 640x480 with 2 Axes>"
            ],
            "image/png": "[encoded data removed]"
          },
          "metadata": {}
        },
        {
          "output_type": "display_data",
          "data": {
            "text/plain": [
              "<Figure size 640x480 with 2 Axes>"
            ],
            "image/png": "[encoded data removed]"
          },
          "metadata": {}
        },
        {
          "output_type": "display_data",
          "data": {
            "text/plain": [
              "<Figure size 640x480 with 2 Axes>"
            ],
            "image/png": "[encoded data removed]"
          },
          "metadata": {}
        }
      ]
    },
    {
      "cell_type": "code",
      "source": [
        "report_log = classification_report(y_test, logreg_pred, output_dict=True)\n",
        "logreg_f1 = report_log['weighted avg']['f1-score']\n",
        "\n",
        "report_knn = classification_report(y_test, y_pred_knn, output_dict=True)\n",
        "knn_f1 = report_knn['weighted avg']['f1-score']\n",
        "\n",
        "report_nb = classification_report(y_test, y_pred_nb, output_dict=True)\n",
        "nb_f1 = report_nb['weighted avg']['f1-score']\n",
        "\n",
        "report_svc = classification_report(y_test, y_pred_svc, output_dict=True)\n",
        "svc_f1 = report_svc['weighted avg']['f1-score']\n",
        "\n",
        "results = {\n",
        "    \"Logistic Regression\": logreg_f1,\n",
        "    \"KNN\": knn_f1,\n",
        "    \"MultinomialNB\": nb_f1,\n",
        "    \"LinearSVC\": svc_f1\n",
        "}\n",
        "\n",
        "best_model = max(results, key=results.get)\n",
        "\n",
        "for model, f1 in results.items():\n",
        "    print(f\"{model} F1-Score: {f1:.4f}\")\n",
        "\n",
        "print(f\"\\n The Best Model is: {best_model} with F1-Score: {results[best_model]:.4f}\")"
      ],
      "metadata": {
        "colab": {
          "base_uri": "https://localhost:8080/"
        },
        "id": "N4Ow4LeZ0ApF",
        "outputId": "e1ce8ded-e43d-4d33-e39d-7101002071c9"
      },
      "execution_count": null,
      "outputs": [
        {
          "output_type": "stream",
          "name": "stdout",
          "text": [
            "Logistic Regression F1-Score: 0.8763\n",
            "KNN F1-Score: 0.7662\n",
            "MultinomialNB F1-Score: 0.8448\n",
            "LinearSVC F1-Score: 0.8756\n",
            "\n",
            " The Best Model is: Logistic Regression with F1-Score: 0.8763\n"
          ]
        }
      ]
    }
  ]
}